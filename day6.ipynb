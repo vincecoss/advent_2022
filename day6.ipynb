{
 "cells": [
  {
   "cell_type": "code",
   "execution_count": null,
   "metadata": {
    "dotnet_interactive": {
     "language": "fsharp"
    },
    "polyglot_notebook": {
     "language": "fsharp"
    },
    "vscode": {
     "languageId": "fsharp"
    }
   },
   "outputs": [],
   "source": [
    "let input = System.IO.File.ReadAllText(\"day6_input.txt\")"
   ]
  },
  {
   "cell_type": "code",
   "execution_count": null,
   "metadata": {
    "vscode": {
     "languageId": "fsharp"
    }
   },
   "outputs": [],
   "source": [
    "let markerStart count (string:string) =\n",
    "    let marker =\n",
    "        string\n",
    "        |> Seq.windowed count\n",
    "        |> Seq.find (fun win -> (win |> Seq.distinct |> Seq.length) = count)\n",
    "        |> String.Concat\n",
    "    \n",
    "    input.IndexOf marker + count\n",
    "\n",
    "printfn \"Part 1 : %i\" (markerStart 4 input)\n",
    "printfn \"Part 2 : %i\" (markerStart 14 input)"
   ]
  }
 ],
 "metadata": {
  "kernelspec": {
   "display_name": ".NET (F#)",
   "language": "F#",
   "name": ".net-fsharp"
  },
  "language_info": {
   "file_extension": ".fs",
   "mimetype": "text/x-fsharp",
   "name": "F#",
   "pygments_lexer": "fsharp",
   "version": "6.0"
  }
 },
 "nbformat": 4,
 "nbformat_minor": 2
}
