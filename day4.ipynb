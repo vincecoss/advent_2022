{
 "cells": [
  {
   "cell_type": "code",
   "execution_count": null,
   "metadata": {
    "vscode": {
     "languageId": "fsharp"
    }
   },
   "outputs": [],
   "source": [
    "let input = System.IO.File.ReadLines(\"day4_input.txt\")"
   ]
  },
  {
   "cell_type": "code",
   "execution_count": null,
   "metadata": {
    "vscode": {
     "languageId": "fsharp"
    }
   },
   "outputs": [],
   "source": [
    "let split (separator:string) (string:string) : list<string> = string.Split separator |> Array.toList\n",
    "\n",
    "let parseRange (range:string) =\n",
    "    match split \"-\" range with\n",
    "    | [startSection; endSection] ->\n",
    "        let ss = int startSection\n",
    "        let es = int endSection\n",
    "        [ss..es]\n",
    "    | _ -> failwith \"Invalid range\"\n",
    "\n",
    "let parseTeam = (split \",\") >> (Seq.map parseRange) >> Seq.toList\n",
    "\n",
    "let is_included_in lista listb =\n",
    "    Set.isProperSubset (Set.ofList lista) (Set.ofList listb)\n",
    "    \n",
    "let has_full_overlap = function\n",
    "    | [lista; listb] -> (is_included_in lista listb) || (is_included_in listb lista) || lista = listb\n",
    "    | _ -> failwith \"Invalid input\"\n",
    "\n",
    "let has_overlap = function\n",
    "    | [lista; listb] -> Set.intersect (Set.ofList lista) (Set.ofList listb) |> Set.isEmpty |> not\n",
    "    | _ -> failwith \"Invalid input\" "
   ]
  },
  {
   "cell_type": "code",
   "execution_count": null,
   "metadata": {
    "dotnet_interactive": {
     "language": "fsharp"
    },
    "vscode": {
     "languageId": "fsharp"
    }
   },
   "outputs": [],
   "source": [
    "input\n",
    "|> Seq.map parseTeam\n",
    "|> Seq.filter has_full_overlap\n",
    "|> Seq.length"
   ]
  },
  {
   "cell_type": "code",
   "execution_count": null,
   "metadata": {
    "vscode": {
     "languageId": "fsharp"
    }
   },
   "outputs": [],
   "source": [
    "input\n",
    "|> Seq.map parseTeam\n",
    "|> Seq.filter has_overlap\n",
    "|> Seq.length"
   ]
  }
 ],
 "metadata": {
  "kernelspec": {
   "display_name": ".NET (F#)",
   "language": "F#",
   "name": ".net-fsharp"
  },
  "language_info": {
   "file_extension": ".fs",
   "mimetype": "text/x-fsharp",
   "name": "F#",
   "pygments_lexer": "fsharp",
   "version": "6.0"
  }
 },
 "nbformat": 4,
 "nbformat_minor": 4
}
