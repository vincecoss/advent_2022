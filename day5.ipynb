{
 "cells": [
  {
   "cell_type": "code",
   "execution_count": null,
   "metadata": {
    "dotnet_interactive": {
     "language": "fsharp"
    },
    "polyglot_notebook": {
     "language": "fsharp"
    },
    "vscode": {
     "languageId": "fsharp"
    }
   },
   "outputs": [],
   "source": [
    "let input = System.IO.File.ReadAllText(\"day5_input.txt\")"
   ]
  },
  {
   "cell_type": "code",
   "execution_count": null,
   "metadata": {
    "vscode": {
     "languageId": "fsharp"
    }
   },
   "outputs": [],
   "source": [
    "let split (separator:string) (string:string) : list<string> = string.Split separator |> Array.toList\n",
    "\n",
    "let parseStacks (stack_input:string) =\n",
    "    stack_input\n",
    "    |> split \"\\n\"\n",
    "    |> (fun list -> List.take (list.Length - 1) list)\n",
    "    |> List.map (fun row ->\n",
    "        row\n",
    "        |> Seq.chunkBySize 4\n",
    "        |> Seq.map (Seq.item 1)\n",
    "        |> List.ofSeq\n",
    "    )\n",
    "    |> List.transpose\n",
    "    |> List.map (List.except \" \")\n",
    "\n",
    "let parseInstructionLine (line:string) = \n",
    "    match split \" \" line with\n",
    "    | [_; count; _; src; _; dest] -> (int count, (int src - 1), (int dest - 1))\n",
    "    | _ -> failwith \"Invalid instruction\"\n",
    "\n",
    "let parseInstructions (instruction_input:string) =\n",
    "    instruction_input\n",
    "    |> split \"\\n\"\n",
    "    |> Seq.map parseInstructionLine\n",
    "\n",
    "let parseInput input =\n",
    "    match split \"\\n\\n\" input with\n",
    "    | [stacks; instructions] -> (parseStacks stacks, parseInstructions instructions)\n",
    "    | _ -> failwith \"Fail parseInput\"\n",
    "\n",
    "let popMany count stack =\n",
    "    match count with\n",
    "    | 0 -> ([], stack)\n",
    "    | n -> \n",
    "        let rec popManyRec count stack acc =\n",
    "            match count with\n",
    "            | 0 -> acc\n",
    "            | n when n > 0 ->\n",
    "                let head::tail = stack\n",
    "                popManyRec (n-1) tail (head::(fst acc), tail)\n",
    "        popManyRec n stack ([], List.empty)\n",
    "\n",
    "let apply stack (count, src, dest) = \n",
    "    let (move, new_src) = popMany count (List.item src stack)\n",
    "    let new_dest = (List.rev move) @ (List.item dest stack)\n",
    "    \n",
    "    stack\n",
    "    |> List.updateAt src new_src\n",
    "    |> List.updateAt dest new_dest\n"
   ]
  },
  {
   "cell_type": "code",
   "execution_count": null,
   "metadata": {
    "vscode": {
     "languageId": "fsharp"
    }
   },
   "outputs": [],
   "source": [
    "let (stacks, instructions) = parseInput input\n",
    "\n",
    "instructions\n",
    "|> Seq.fold apply stacks\n",
    "|> Seq.map (Seq.item 0)\n",
    "|> String.Concat"
   ]
  },
  {
   "cell_type": "markdown",
   "metadata": {},
   "source": []
  }
 ],
 "metadata": {
  "kernelspec": {
   "display_name": ".NET (F#)",
   "language": "F#",
   "name": ".net-fsharp"
  },
  "language_info": {
   "file_extension": ".fs",
   "mimetype": "text/x-fsharp",
   "name": "F#",
   "pygments_lexer": "fsharp",
   "version": "6.0"
  }
 },
 "nbformat": 4,
 "nbformat_minor": 2
}
