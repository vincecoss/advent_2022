{
 "cells": [
  {
   "cell_type": "code",
   "execution_count": null,
   "metadata": {
    "dotnet_interactive": {
     "language": "fsharp"
    },
    "polyglot_notebook": {
     "language": "fsharp"
    },
    "vscode": {
     "languageId": "fsharp"
    }
   },
   "outputs": [],
   "source": [
    "let input = System.IO.File.ReadLines(\"day3_input.txt\")"
   ]
  },
  {
   "cell_type": "code",
   "execution_count": null,
   "metadata": {
    "vscode": {
     "languageId": "fsharp"
    }
   },
   "outputs": [],
   "source": [
    "let priorityOf (v:Char) : int = (Seq.findIndex ((=) v) (['a'..'z'] @ ['A'..'Z'])) + 1"
   ]
  },
  {
   "cell_type": "code",
   "execution_count": null,
   "metadata": {
    "vscode": {
     "languageId": "fsharp"
    }
   },
   "outputs": [],
   "source": [
    "let halves (string:String) : String * String =\n",
    "    let length = string.Length\n",
    "    (string.[0..(length/2)-1], string.[(length/2)..(length)])\n",
    "    \n",
    "let uniq string = Seq.fold (fun (set:Set<Char>) c -> set.Add c) Set.empty string\n",
    "\n",
    "let uniqChars ((comp1:String), (comp2:String)) = (uniq comp1, uniq comp2)\n",
    "\n",
    "let common (comp1, comp2) =\n",
    "    (comp1,  comp2)\n",
    "    ||> Set.intersect\n",
    "\n",
    "let pluckItem set = set |> Set.toList |> (fun l -> l.Head)\n",
    "\n",
    "let findCommonItem = halves >> uniqChars >> common"
   ]
  },
  {
   "cell_type": "code",
   "execution_count": null,
   "metadata": {
    "dotnet_interactive": {
     "language": "fsharp"
    },
    "vscode": {
     "languageId": "fsharp"
    }
   },
   "outputs": [],
   "source": [
    "input\n",
    "|> Seq.map findCommonItem\n",
    "|> Seq.map pluckItem\n",
    "|> Seq.map priorityOf\n",
    "|> Seq.sum"
   ]
  },
  {
   "cell_type": "code",
   "execution_count": null,
   "metadata": {
    "vscode": {
     "languageId": "fsharp"
    }
   },
   "outputs": [],
   "source": [
    "input\n",
    "|> Seq.map uniq\n",
    "|> Seq.chunkBySize 3\n",
    "|> Seq.map Set.intersectMany\n",
    "|> Seq.map pluckItem\n",
    "|> Seq.map priorityOf\n",
    "|> Seq.sum"
   ]
  }
 ],
 "metadata": {
  "kernelspec": {
   "display_name": ".NET (F#)",
   "language": "F#",
   "name": ".net-fsharp"
  },
  "language_info": {
   "file_extension": ".fs",
   "mimetype": "text/x-fsharp",
   "name": "F#",
   "pygments_lexer": "fsharp",
   "version": "6.0"
  }
 },
 "nbformat": 4,
 "nbformat_minor": 2
}
