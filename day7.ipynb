{
 "cells": [
  {
   "cell_type": "code",
   "execution_count": null,
   "metadata": {
    "dotnet_interactive": {
     "language": "fsharp"
    },
    "polyglot_notebook": {
     "language": "fsharp"
    },
    "vscode": {
     "languageId": "fsharp"
    }
   },
   "outputs": [],
   "source": [
    "let input = System.IO.File.ReadLines(\"day7_input.txt\")"
   ]
  },
  {
   "cell_type": "code",
   "execution_count": null,
   "metadata": {
    "vscode": {
     "languageId": "fsharp"
    }
   },
   "outputs": [],
   "source": [
    "open System.Text.RegularExpressions\n",
    "\n",
    "let (|Command|_|) (command:string) (string:string) =\n",
    "    let pattern = \"$ \" + command\n",
    "    if string.StartsWith(pattern) then\n",
    "        Some(string.Substring(pattern.Length))\n",
    "    else\n",
    "        None\n",
    "\n",
    "let (|DirItem|_|) (string:string) =\n",
    "    let pattern = \"dir \"\n",
    "    if string.StartsWith(pattern) then\n",
    "        Some(string.Substring(4))\n",
    "    else\n",
    "        None\n",
    "\n",
    "let (|FileItem|_|) (string:string) =\n",
    "    let pattern = Regex(\"\\d+ .+\")\n",
    "    if pattern.IsMatch string then\n",
    "        match string.Split \" \" |> Array.toList with\n",
    "        | [size; name] -> Some((name, int size))\n",
    "        | _ -> failwith \"Invalid file\"\n",
    "    else\n",
    "        None"
   ]
  },
  {
   "cell_type": "code",
   "execution_count": null,
   "metadata": {
    "vscode": {
     "languageId": "fsharp"
    }
   },
   "outputs": [],
   "source": [
    "open System.Collections.Generic\n",
    "\n",
    "type Node =\n",
    "    | Directory of string *  List<Node>\n",
    "    | File of string * int\n",
    "\n",
    "let is_dir name dir : bool = \n",
    "    match dir with\n",
    "    | Directory(dir_name, _) when dir_name = name -> true\n",
    "    | _ -> false\n",
    "\n",
    "let rec findWithPath path directory =\n",
    "    match directory with\n",
    "    | File _ -> failwith \"Path can't be a file\"\n",
    "    | Directory(dirname, content) ->\n",
    "        match path with\n",
    "        | [] -> directory\n",
    "        | head::tail -> findWithPath tail (content.Find (is_dir head))\n",
    "\n",
    "let skipLast list = \n",
    "    list\n",
    "    |> List.rev\n",
    "    |> List.skip 1\n",
    "    |> List.rev\n",
    "\n",
    "let insert state node =\n",
    "    let current = findWithPath (fst state) (snd state)\n",
    "    match current with\n",
    "    | File(_, _) -> failwith \"Current can't be a file\"\n",
    "    | Directory(_, list) -> \n",
    "        list.Add(node)\n",
    "        state\n",
    "\n",
    "let parseLine state line =\n",
    "    match line with\n",
    "    | Command \"ls\" _ -> state\n",
    "    | Command \"cd ..\" _ -> (state |> fst |> skipLast, snd state)\n",
    "    | Command \"cd \" dir -> ((fst state) @ [dir], snd state)\n",
    "    | DirItem name -> insert state (Directory(name, new List<Node>()))\n",
    "    | FileItem (name, size) -> insert state (File(name, size))\n",
    "    | _ -> failwith \"Invalid line\"\n",
    "\n",
    "let rec listDirRec acc node =\n",
    "    match node with\n",
    "    | Directory(_, content) ->\n",
    "        content\n",
    "        |> List.ofSeq\n",
    "        |> List.fold listDirRec ([node] @ acc)\n",
    "    | _ -> acc\n",
    "\n",
    "let listDir node = \n",
    "    match node with\n",
    "    | Directory(_, _) -> listDirRec [] node\n",
    "    | _ -> failwith \"invalid node\"\n"
   ]
  },
  {
   "cell_type": "code",
   "execution_count": null,
   "metadata": {
    "vscode": {
     "languageId": "fsharp"
    }
   },
   "outputs": [],
   "source": [
    "let rec dirSize node =\n",
    "    match node with\n",
    "    | File(_,_) -> failwith \"No file allowed\"\n",
    "    | Directory(_, content) ->\n",
    "        content\n",
    "        |> List.ofSeq\n",
    "        |> List.fold (fun acc node -> acc + (sizeOf node)) 0\n",
    "\n",
    "and sizeOf node =\n",
    "    match node with\n",
    "    | File(_, size) -> size\n",
    "    | Directory(_,_) -> dirSize node"
   ]
  },
  {
   "cell_type": "code",
   "execution_count": null,
   "metadata": {
    "vscode": {
     "languageId": "fsharp"
    }
   },
   "outputs": [],
   "source": [
    "let initial_state = ([], Directory(\"/\", new List<Node>()))\n",
    "\n",
    "input\n",
    "|> Seq.skip 1\n",
    "|> Seq.fold parseLine initial_state\n",
    "\n",
    "let (_, root) = initial_state\n",
    "\n",
    "let dir_sizes =\n",
    "    root\n",
    "    |> listDir\n",
    "    |> List.fold (fun acc dir ->[(dirSize dir)] @ acc) []\n",
    "\n",
    "dir_sizes\n",
    "|> List.filter ((>) 100000)\n",
    "|> List.sum\n",
    "|> printfn \"Part 1 : %i\"\n",
    "\n",
    "let total = 70000000\n",
    "let required = 30000000 - (total - (dirSize root))\n",
    "\n",
    "dir_sizes\n",
    "|> List.sort\n",
    "|> List.find ((<) required)\n",
    "|> printfn \"Part 2 : %i\" "
   ]
  }
 ],
 "metadata": {
  "kernelspec": {
   "display_name": ".NET (F#)",
   "language": "F#",
   "name": ".net-fsharp"
  },
  "language_info": {
   "file_extension": ".fs",
   "mimetype": "text/x-fsharp",
   "name": "F#",
   "pygments_lexer": "fsharp",
   "version": "6.0"
  }
 },
 "nbformat": 4,
 "nbformat_minor": 2
}
