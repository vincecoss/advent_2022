{
 "cells": [
  {
   "cell_type": "code",
   "execution_count": null,
   "metadata": {
    "vscode": {
     "languageId": "fsharp"
    }
   },
   "outputs": [],
   "source": [
    "let input = System.IO.File.ReadLines(\"day2_input.txt\")"
   ]
  },
  {
   "cell_type": "code",
   "execution_count": null,
   "metadata": {
    "vscode": {
     "languageId": "fsharp"
    }
   },
   "outputs": [],
   "source": [
    "let score_p1 round = \n",
    "    match round with\n",
    "    | \"A X\" -> 4\n",
    "    | \"A Y\" -> 8\n",
    "    | \"A Z\" -> 3\n",
    "    | \"B X\" -> 1\n",
    "    | \"B Y\" -> 5\n",
    "    | \"B Z\" -> 9\n",
    "    | \"C X\" -> 7\n",
    "    | \"C Y\" -> 2\n",
    "    | \"C Z\" -> 6\n",
    "    | _ -> 0"
   ]
  },
  {
   "cell_type": "code",
   "execution_count": null,
   "metadata": {
    "vscode": {
     "languageId": "fsharp"
    }
   },
   "outputs": [],
   "source": []
  },
  {
   "cell_type": "code",
   "execution_count": null,
   "metadata": {
    "vscode": {
     "languageId": "fsharp"
    }
   },
   "outputs": [],
   "source": [
    "type Result = | X | Y | Z\n",
    "    with\n",
    "        static member fromString string =\n",
    "            match string with\n",
    "            | \"X\" -> X\n",
    "            | \"Y\" -> Y\n",
    "            | \"Z\" -> Z\n",
    "            | _ -> failwith \"Invalid Result\"\n",
    "\n",
    "type Hand = | A | B | C\n",
    "    with\n",
    "        static member fromString string =\n",
    "            match string with\n",
    "            | \"A\" -> A\n",
    "            | \"B\" -> B\n",
    "            | \"C\" -> C\n",
    "            | _ -> failwith \"Invalid Value\"\n",
    "        static member forResult result hand =\n",
    "            match result, hand with\n",
    "            | X, A -> C\n",
    "            | X, B -> A\n",
    "            | X, C -> B\n",
    "            | Y, A -> A\n",
    "            | Y, B -> B\n",
    "            | Y, C -> C\n",
    "            | Z, A -> B\n",
    "            | Z, B -> C\n",
    "            | Z, C -> A\n",
    "\n",
    "let handScore (hand:Hand) =\n",
    "    match hand with\n",
    "    | A -> 1\n",
    "    | B -> 2\n",
    "    | C -> 3\n",
    "\n",
    "let resultScore (result:Result) =\n",
    "    match result with\n",
    "    | X -> 0\n",
    "    | Y -> 3\n",
    "    | Z -> 6\n"
   ]
  },
  {
   "cell_type": "code",
   "execution_count": null,
   "metadata": {
    "vscode": {
     "languageId": "fsharp"
    }
   },
   "outputs": [],
   "source": [
    "let parse (round:string) = \n",
    "    match round.Split ' ' |> Array.toList with\n",
    "    | elf::own::_ -> (Hand.fromString(elf), Result.fromString(own))\n",
    "    | _ -> failwith(\"allo\")\n",
    "\n",
    "let roundScore (hand, result) =\n",
    "    let res_score = resultScore result\n",
    "    let hand_score = \n",
    "        hand\n",
    "        |> Hand.forResult result\n",
    "        |> handScore\n",
    "    \n",
    "    hand_score + res_score"
   ]
  },
  {
   "cell_type": "code",
   "execution_count": null,
   "metadata": {
    "vscode": {
     "languageId": "fsharp"
    }
   },
   "outputs": [],
   "source": [
    "// Part 1\n",
    "input\n",
    "|> Seq.map score_p1\n",
    "|> Seq.sum"
   ]
  },
  {
   "cell_type": "code",
   "execution_count": null,
   "metadata": {
    "vscode": {
     "languageId": "fsharp"
    }
   },
   "outputs": [],
   "source": [
    "// Part 2\n",
    "input\n",
    "|> Seq.map parse\n",
    "|> Seq.map roundScore\n",
    "|> Seq.sum"
   ]
  }
 ],
 "metadata": {
  "kernelspec": {
   "display_name": ".NET (F#)",
   "language": "F#",
   "name": ".net-fsharp"
  },
  "language_info": {
   "file_extension": ".fs",
   "mimetype": "text/x-fsharp",
   "name": "F#",
   "pygments_lexer": "fsharp",
   "version": "6.0"
  },
  "orig_nbformat": 4
 },
 "nbformat": 4,
 "nbformat_minor": 2
}
