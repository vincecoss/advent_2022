{
 "cells": [
  {
   "cell_type": "code",
   "execution_count": null,
   "metadata": {
    "dotnet_interactive": {
     "language": "fsharp"
    },
    "polyglot_notebook": {
     "language": "fsharp"
    },
    "vscode": {
     "languageId": "fsharp"
    }
   },
   "outputs": [],
   "source": [
    "let input = System.IO.File.ReadLines(\"day8_input.txt\")"
   ]
  },
  {
   "cell_type": "code",
   "execution_count": null,
   "metadata": {
    "vscode": {
     "languageId": "fsharp"
    }
   },
   "outputs": [],
   "source": [
    "let maxIdx array = (Array2D.length1 array) - 1\n",
    "\n",
    "let (|IsEdge|_|) array indices =\n",
    "    let (i, j) = indices\n",
    "    let max_idx = maxIdx array\n",
    "\n",
    "    if i = 0 || i = max_idx || j = 0 || j = max_idx then\n",
    "        Some(true)\n",
    "    else\n",
    "        None\n",
    "\n",
    "let getRow row_idx array =\n",
    "    [for i in 0..(maxIdx array) -> array[row_idx, i]]\n",
    "\n",
    "let getCol col_idx array =\n",
    "    [for i in 0..(maxIdx array) -> array[i, col_idx]]\n",
    "\n",
    "let is_visible row_idx col_idx v array =\n",
    "    match (row_idx, col_idx) with\n",
    "    | IsEdge array true -> true\n",
    "    | (_, _) ->\n",
    "        let row = getRow row_idx array\n",
    "        let col = getCol col_idx array\n",
    "\n",
    "        v > Seq.max row[0..(col_idx-1)] ||\n",
    "        v > Seq.max row[(col_idx+1)..] ||\n",
    "        v > Seq.max col[0..(row_idx-1)] ||\n",
    "        v > Seq.max col[(row_idx+1)..]\n",
    "\n",
    "let distance value seq : int=\n",
    "    seq\n",
    "    |> Seq.tryFindIndex ((<=) value)\n",
    "    |> function\n",
    "        | None -> Seq.length seq\n",
    "        | Some(i) -> i + 1\n",
    "\n",
    "let scenic_score row_idx col_idx v array =\n",
    "    match (row_idx, col_idx) with\n",
    "    | IsEdge array true -> 0\n",
    "    | (_, _) ->\n",
    "        let row = getRow row_idx array\n",
    "        let col = getCol col_idx array\n",
    "\n",
    "        [\n",
    "            row[0..(col_idx-1)] |> Seq.rev;\n",
    "            row[(col_idx+1)..];\n",
    "            col[0..(row_idx-1)] |> Seq.rev;\n",
    "            col[(row_idx+1)..]\n",
    "        ]\n",
    "        |> List.fold (fun score direction -> (distance v direction) * score) 1\n"
   ]
  },
  {
   "cell_type": "code",
   "execution_count": null,
   "metadata": {
    "vscode": {
     "languageId": "fsharp"
    }
   },
   "outputs": [],
   "source": [
    "let plantation = \n",
    "    input\n",
    "    |> array2D\n",
    "    |> Array2D.map (string >> int)"
   ]
  },
  {
   "cell_type": "code",
   "execution_count": null,
   "metadata": {
    "vscode": {
     "languageId": "fsharp"
    }
   },
   "outputs": [],
   "source": [
    "let visibility = Array2D.mapi (fun i j v -> is_visible i j v plantation) plantation\n",
    "\n",
    "let max = maxIdx visibility\n",
    "seq {\n",
    "    for i in 0..max do\n",
    "        for j in 0..max do\n",
    "            yield visibility[i,j]\n",
    "}\n",
    "|> Seq.filter ((=) true)\n",
    "|> Seq.length\n",
    "|> printfn \"Part 1 : %A\" "
   ]
  },
  {
   "cell_type": "code",
   "execution_count": null,
   "metadata": {
    "vscode": {
     "languageId": "fsharp"
    }
   },
   "outputs": [],
   "source": [
    "let scores = Array2D.mapi (fun i j v -> scenic_score i j v plantation) plantation\n",
    "\n",
    "let max = maxIdx scores\n",
    "seq {\n",
    "    for i in 0..max do\n",
    "        for j in 0..max do\n",
    "            yield scores[i,j]\n",
    "}\n",
    "|> Seq.max\n",
    "|> printfn \"Part 2 : %A\" "
   ]
  }
 ],
 "metadata": {
  "kernelspec": {
   "display_name": ".NET (F#)",
   "language": "F#",
   "name": ".net-fsharp"
  },
  "language_info": {
   "file_extension": ".fs",
   "mimetype": "text/x-fsharp",
   "name": "F#",
   "pygments_lexer": "fsharp",
   "version": "6.0"
  }
 },
 "nbformat": 4,
 "nbformat_minor": 2
}
